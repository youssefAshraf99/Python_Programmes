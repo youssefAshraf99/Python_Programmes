{
 "cells": [
  {
   "cell_type": "code",
   "execution_count": 32,
   "id": "c8bbddb7",
   "metadata": {},
   "outputs": [],
   "source": [
    "import matplotlib.pyplot as plt\n",
    "import numpy as np\n",
    "import cv2,os,scipy\n",
    "from skimage.morphology import black_tophat,disk\n",
    "from scipy import ndimage as ndi\n",
    "from skimage import data\n",
    "from skimage.util import img_as_float\n",
    "from skimage.filters import gabor_kernel"
   ]
  },
  {
   "cell_type": "code",
   "execution_count": 33,
   "id": "2f80c6b8",
   "metadata": {},
   "outputs": [],
   "source": [
    "def rgb2gray(rgb):\n",
    "      return np.dot(rgb[...,:3], [0.299, 0.587, 0.114])"
   ]
  },
  {
   "cell_type": "code",
   "execution_count": 34,
   "id": "0da85f80",
   "metadata": {},
   "outputs": [],
   "source": [
    "def center(gaussian_img):\n",
    "    edges = cv2.Canny(gaussian_img,50,100)\n",
    "    cimg = cv2.cvtColor(edges,cv2.COLOR_GRAY2BGR)\n",
    "    circles = cv2.HoughCircles(edges,cv2.HOUGH_GRADIENT,1,20,\n",
    "                            param1=50,param2=30,minRadius=0,maxRadius=0)\n",
    "    circles = np.uint16(np.around(circles))\n",
    "    center=circles[0,:]\n",
    "    y=int(center[0,0])\n",
    "    x=int(center[0,1])\n",
    "    r=int(center[0,2])\n",
    "    return (x,y,r)"
   ]
  },
  {
   "cell_type": "code",
   "execution_count": 35,
   "id": "abc9c144",
   "metadata": {},
   "outputs": [],
   "source": [
    "def radius(gaussian_img):\n",
    "    edges = cv2.Canny(gaussian_img,20,20)\n",
    "    cimg = cv2.cvtColor(edges,cv2.COLOR_GRAY2BGR)\n",
    "    circles = cv2.HoughCircles(edges,cv2.HOUGH_GRADIENT,1,20,\n",
    "                            param1=50,param2=30,minRadius=0,maxRadius=0)\n",
    "    circles = np.uint16(np.around(circles))\n",
    "    circles=circles[0,:]\n",
    "    circles = np.uint16(np.around(circles))\n",
    "    radiuses=circles[:,2]\n",
    "    x=[]\n",
    "    for i in range(len(radiuses)):\n",
    "        if(radiuses[i]<115 and radiuses[i]>100):\n",
    "            x.append(radiuses[i])\n",
    "    return int(np.mean(x))"
   ]
  },
  {
   "cell_type": "code",
   "execution_count": 36,
   "id": "7f69e20e",
   "metadata": {},
   "outputs": [],
   "source": [
    "def norm_image(path):\n",
    "    path = os.path.join(os.getcwd(),path)\n",
    "    image=np.array(cv2.imread(path))\n",
    "    temp_img=gray_img=np.uint8(rgb2gray(image))\n",
    "    selem = disk(6)\n",
    "    b_tophat = black_tophat(gray_img, selem)\n",
    "    resultant_img=b_tophat+gray_img\n",
    "    median_img = cv2.medianBlur(resultant_img,5)\n",
    "    gaussian_img=scipy.ndimage.filters.gaussian_filter(median_img,\n",
    "                                                       sigma=1.90, order=0,output=None,\n",
    "                                                       mode='reflect',\n",
    "                                                       cval=0.0, truncate=4.0)\n",
    "    xc,yc,r=center(gaussian_img)\n",
    "    R=radius(gaussian_img)\n",
    "    theta = np.arange(0.00, np.pi*2, 0.01) #theta\n",
    "    rng=np.arange(0,100)\n",
    "    norm_img=np.zeros((rng.size,theta.size))\n",
    "    for t in theta:\n",
    "        for rc in rng:\n",
    "            mc=(R-r)*(rc)/100+r\n",
    "            x=int(xc+mc*np.cos(t))\n",
    "            y=int(yc+mc*np.sin(t))\n",
    "            try:\n",
    "                norm_img[rc,np.where(theta==t)]=temp_img[x,y]\n",
    "            except Exception as e:\n",
    "                pass\n",
    "    return norm_img"
   ]
  },
  {
   "cell_type": "code",
   "execution_count": 37,
   "id": "b80290e4",
   "metadata": {},
   "outputs": [],
   "source": [
    "def compute_feats(image, kernels):\n",
    "    feats = np.zeros((len(kernels), 2), dtype=np.double)\n",
    "    for k, kernel in enumerate(kernels):\n",
    "        filtered = ndi.convolve(image, kernel, mode='wrap')\n",
    "        feats[k, 0] = filtered.mean()\n",
    "        feats[k, 1] = filtered.var()\n",
    "    return feats\n",
    "\n",
    "percentage_array=[]"
   ]
  },
  {
   "cell_type": "code",
   "execution_count": 38,
   "id": "41cc9271",
   "metadata": {},
   "outputs": [],
   "source": [
    "def match(feats, ref_feats):\n",
    "    max_error=15000000\n",
    "    min_error = np.inf\n",
    "    min_i = None\n",
    "    for i in range(ref_feats.shape[0]):\n",
    "        error = np.sum((feats - ref_feats[i, :])**2)\n",
    "        percentage=int((max_error-error)*100/max_error)\n",
    "        percentage_array.append(percentage)\n",
    "#         print(str(percentage)+\" %\")\n",
    "        if error < min_error:\n",
    "            min_error = error\n",
    "            min_i = i\n",
    "    return min_i\n",
    "kernels = []"
   ]
  },
  {
   "cell_type": "code",
   "execution_count": 39,
   "id": "a8e0690a",
   "metadata": {},
   "outputs": [
    {
     "name": "stdout",
     "output_type": "stream",
     "text": [
      "Matched against references using Gabor filter banks:\n",
      "original:unknown person , match result: "
     ]
    },
    {
     "ename": "TypeError",
     "evalue": "loop of ufunc does not support argument 0 of type NoneType which has no callable rint method",
     "output_type": "error",
     "traceback": [
      "\u001b[1;31m---------------------------------------------------------------------------\u001b[0m",
      "\u001b[1;31mAttributeError\u001b[0m                            Traceback (most recent call last)",
      "\u001b[1;31mAttributeError\u001b[0m: 'NoneType' object has no attribute 'rint'",
      "\nThe above exception was the direct cause of the following exception:\n",
      "\u001b[1;31mTypeError\u001b[0m                                 Traceback (most recent call last)",
      "\u001b[1;32m<ipython-input-39-732ebf008886>\u001b[0m in \u001b[0;36m<module>\u001b[1;34m\u001b[0m\n\u001b[0;32m     27\u001b[0m \u001b[0mprint\u001b[0m\u001b[1;33m(\u001b[0m\u001b[1;34m'Matched against references using Gabor filter banks:'\u001b[0m\u001b[1;33m)\u001b[0m\u001b[1;33m\u001b[0m\u001b[1;33m\u001b[0m\u001b[0m\n\u001b[0;32m     28\u001b[0m \u001b[0mprint\u001b[0m\u001b[1;33m(\u001b[0m\u001b[1;34m'original:unknown person , match result: '\u001b[0m\u001b[1;33m,\u001b[0m \u001b[0mend\u001b[0m\u001b[1;33m=\u001b[0m\u001b[1;34m''\u001b[0m\u001b[1;33m)\u001b[0m\u001b[1;33m\u001b[0m\u001b[1;33m\u001b[0m\u001b[0m\n\u001b[1;32m---> 29\u001b[1;33m \u001b[0munknown_person_norm_image\u001b[0m\u001b[1;33m=\u001b[0m\u001b[0mnorm_image\u001b[0m\u001b[1;33m(\u001b[0m\u001b[0munknown_img\u001b[0m\u001b[1;33m)\u001b[0m\u001b[1;33m\u001b[0m\u001b[1;33m\u001b[0m\u001b[0m\n\u001b[0m\u001b[0;32m     30\u001b[0m \u001b[0mfeats\u001b[0m \u001b[1;33m=\u001b[0m \u001b[0mcompute_feats\u001b[0m\u001b[1;33m(\u001b[0m\u001b[0munknown_person_norm_image\u001b[0m\u001b[1;33m,\u001b[0m \u001b[0mkernels\u001b[0m\u001b[1;33m)\u001b[0m\u001b[1;33m\u001b[0m\u001b[1;33m\u001b[0m\u001b[0m\n\u001b[0;32m     31\u001b[0m \u001b[0mprint\u001b[0m\u001b[1;33m(\u001b[0m\u001b[0mperson_names\u001b[0m\u001b[1;33m[\u001b[0m\u001b[0mmatch\u001b[0m\u001b[1;33m(\u001b[0m\u001b[0mfeats\u001b[0m\u001b[1;33m,\u001b[0m \u001b[0mref_feats\u001b[0m\u001b[1;33m)\u001b[0m\u001b[1;33m]\u001b[0m\u001b[1;33m)\u001b[0m\u001b[1;33m\u001b[0m\u001b[1;33m\u001b[0m\u001b[0m\n",
      "\u001b[1;32m<ipython-input-36-af87029e5db5>\u001b[0m in \u001b[0;36mnorm_image\u001b[1;34m(path)\u001b[0m\n\u001b[0;32m     11\u001b[0m                                                        \u001b[0mmode\u001b[0m\u001b[1;33m=\u001b[0m\u001b[1;34m'reflect'\u001b[0m\u001b[1;33m,\u001b[0m\u001b[1;33m\u001b[0m\u001b[1;33m\u001b[0m\u001b[0m\n\u001b[0;32m     12\u001b[0m                                                        cval=0.0, truncate=4.0)\n\u001b[1;32m---> 13\u001b[1;33m     \u001b[0mxc\u001b[0m\u001b[1;33m,\u001b[0m\u001b[0myc\u001b[0m\u001b[1;33m,\u001b[0m\u001b[0mr\u001b[0m\u001b[1;33m=\u001b[0m\u001b[0mcenter\u001b[0m\u001b[1;33m(\u001b[0m\u001b[0mgaussian_img\u001b[0m\u001b[1;33m)\u001b[0m\u001b[1;33m\u001b[0m\u001b[1;33m\u001b[0m\u001b[0m\n\u001b[0m\u001b[0;32m     14\u001b[0m     \u001b[0mR\u001b[0m\u001b[1;33m=\u001b[0m\u001b[0mradius\u001b[0m\u001b[1;33m(\u001b[0m\u001b[0mgaussian_img\u001b[0m\u001b[1;33m)\u001b[0m\u001b[1;33m\u001b[0m\u001b[1;33m\u001b[0m\u001b[0m\n\u001b[0;32m     15\u001b[0m     \u001b[0mtheta\u001b[0m \u001b[1;33m=\u001b[0m \u001b[0mnp\u001b[0m\u001b[1;33m.\u001b[0m\u001b[0marange\u001b[0m\u001b[1;33m(\u001b[0m\u001b[1;36m0.00\u001b[0m\u001b[1;33m,\u001b[0m \u001b[0mnp\u001b[0m\u001b[1;33m.\u001b[0m\u001b[0mpi\u001b[0m\u001b[1;33m*\u001b[0m\u001b[1;36m2\u001b[0m\u001b[1;33m,\u001b[0m \u001b[1;36m0.01\u001b[0m\u001b[1;33m)\u001b[0m \u001b[1;31m#theta\u001b[0m\u001b[1;33m\u001b[0m\u001b[1;33m\u001b[0m\u001b[0m\n",
      "\u001b[1;32m<ipython-input-34-7ad26b008bfd>\u001b[0m in \u001b[0;36mcenter\u001b[1;34m(gaussian_img)\u001b[0m\n\u001b[0;32m      4\u001b[0m     circles = cv2.HoughCircles(edges,cv2.HOUGH_GRADIENT,1,20,\n\u001b[0;32m      5\u001b[0m                             param1=50,param2=30,minRadius=0,maxRadius=0)\n\u001b[1;32m----> 6\u001b[1;33m     \u001b[0mcircles\u001b[0m \u001b[1;33m=\u001b[0m \u001b[0mnp\u001b[0m\u001b[1;33m.\u001b[0m\u001b[0muint16\u001b[0m\u001b[1;33m(\u001b[0m\u001b[0mnp\u001b[0m\u001b[1;33m.\u001b[0m\u001b[0maround\u001b[0m\u001b[1;33m(\u001b[0m\u001b[0mcircles\u001b[0m\u001b[1;33m)\u001b[0m\u001b[1;33m)\u001b[0m\u001b[1;33m\u001b[0m\u001b[1;33m\u001b[0m\u001b[0m\n\u001b[0m\u001b[0;32m      7\u001b[0m     \u001b[0mcenter\u001b[0m\u001b[1;33m=\u001b[0m\u001b[0mcircles\u001b[0m\u001b[1;33m[\u001b[0m\u001b[1;36m0\u001b[0m\u001b[1;33m,\u001b[0m\u001b[1;33m:\u001b[0m\u001b[1;33m]\u001b[0m\u001b[1;33m\u001b[0m\u001b[1;33m\u001b[0m\u001b[0m\n\u001b[0;32m      8\u001b[0m     \u001b[0my\u001b[0m\u001b[1;33m=\u001b[0m\u001b[0mint\u001b[0m\u001b[1;33m(\u001b[0m\u001b[0mcenter\u001b[0m\u001b[1;33m[\u001b[0m\u001b[1;36m0\u001b[0m\u001b[1;33m,\u001b[0m\u001b[1;36m0\u001b[0m\u001b[1;33m]\u001b[0m\u001b[1;33m)\u001b[0m\u001b[1;33m\u001b[0m\u001b[1;33m\u001b[0m\u001b[0m\n",
      "\u001b[1;32m<__array_function__ internals>\u001b[0m in \u001b[0;36maround\u001b[1;34m(*args, **kwargs)\u001b[0m\n",
      "\u001b[1;32m~\\anaconda3\\lib\\site-packages\\numpy\\core\\fromnumeric.py\u001b[0m in \u001b[0;36maround\u001b[1;34m(a, decimals, out)\u001b[0m\n\u001b[0;32m   3291\u001b[0m \u001b[1;33m\u001b[0m\u001b[0m\n\u001b[0;32m   3292\u001b[0m     \"\"\"\n\u001b[1;32m-> 3293\u001b[1;33m     \u001b[1;32mreturn\u001b[0m \u001b[0m_wrapfunc\u001b[0m\u001b[1;33m(\u001b[0m\u001b[0ma\u001b[0m\u001b[1;33m,\u001b[0m \u001b[1;34m'round'\u001b[0m\u001b[1;33m,\u001b[0m \u001b[0mdecimals\u001b[0m\u001b[1;33m=\u001b[0m\u001b[0mdecimals\u001b[0m\u001b[1;33m,\u001b[0m \u001b[0mout\u001b[0m\u001b[1;33m=\u001b[0m\u001b[0mout\u001b[0m\u001b[1;33m)\u001b[0m\u001b[1;33m\u001b[0m\u001b[1;33m\u001b[0m\u001b[0m\n\u001b[0m\u001b[0;32m   3294\u001b[0m \u001b[1;33m\u001b[0m\u001b[0m\n\u001b[0;32m   3295\u001b[0m \u001b[1;33m\u001b[0m\u001b[0m\n",
      "\u001b[1;32m~\\anaconda3\\lib\\site-packages\\numpy\\core\\fromnumeric.py\u001b[0m in \u001b[0;36m_wrapfunc\u001b[1;34m(obj, method, *args, **kwds)\u001b[0m\n\u001b[0;32m     53\u001b[0m     \u001b[0mbound\u001b[0m \u001b[1;33m=\u001b[0m \u001b[0mgetattr\u001b[0m\u001b[1;33m(\u001b[0m\u001b[0mobj\u001b[0m\u001b[1;33m,\u001b[0m \u001b[0mmethod\u001b[0m\u001b[1;33m,\u001b[0m \u001b[1;32mNone\u001b[0m\u001b[1;33m)\u001b[0m\u001b[1;33m\u001b[0m\u001b[1;33m\u001b[0m\u001b[0m\n\u001b[0;32m     54\u001b[0m     \u001b[1;32mif\u001b[0m \u001b[0mbound\u001b[0m \u001b[1;32mis\u001b[0m \u001b[1;32mNone\u001b[0m\u001b[1;33m:\u001b[0m\u001b[1;33m\u001b[0m\u001b[1;33m\u001b[0m\u001b[0m\n\u001b[1;32m---> 55\u001b[1;33m         \u001b[1;32mreturn\u001b[0m \u001b[0m_wrapit\u001b[0m\u001b[1;33m(\u001b[0m\u001b[0mobj\u001b[0m\u001b[1;33m,\u001b[0m \u001b[0mmethod\u001b[0m\u001b[1;33m,\u001b[0m \u001b[1;33m*\u001b[0m\u001b[0margs\u001b[0m\u001b[1;33m,\u001b[0m \u001b[1;33m**\u001b[0m\u001b[0mkwds\u001b[0m\u001b[1;33m)\u001b[0m\u001b[1;33m\u001b[0m\u001b[1;33m\u001b[0m\u001b[0m\n\u001b[0m\u001b[0;32m     56\u001b[0m \u001b[1;33m\u001b[0m\u001b[0m\n\u001b[0;32m     57\u001b[0m     \u001b[1;32mtry\u001b[0m\u001b[1;33m:\u001b[0m\u001b[1;33m\u001b[0m\u001b[1;33m\u001b[0m\u001b[0m\n",
      "\u001b[1;32m~\\anaconda3\\lib\\site-packages\\numpy\\core\\fromnumeric.py\u001b[0m in \u001b[0;36m_wrapit\u001b[1;34m(obj, method, *args, **kwds)\u001b[0m\n\u001b[0;32m     42\u001b[0m     \u001b[1;32mexcept\u001b[0m \u001b[0mAttributeError\u001b[0m\u001b[1;33m:\u001b[0m\u001b[1;33m\u001b[0m\u001b[1;33m\u001b[0m\u001b[0m\n\u001b[0;32m     43\u001b[0m         \u001b[0mwrap\u001b[0m \u001b[1;33m=\u001b[0m \u001b[1;32mNone\u001b[0m\u001b[1;33m\u001b[0m\u001b[1;33m\u001b[0m\u001b[0m\n\u001b[1;32m---> 44\u001b[1;33m     \u001b[0mresult\u001b[0m \u001b[1;33m=\u001b[0m \u001b[0mgetattr\u001b[0m\u001b[1;33m(\u001b[0m\u001b[0masarray\u001b[0m\u001b[1;33m(\u001b[0m\u001b[0mobj\u001b[0m\u001b[1;33m)\u001b[0m\u001b[1;33m,\u001b[0m \u001b[0mmethod\u001b[0m\u001b[1;33m)\u001b[0m\u001b[1;33m(\u001b[0m\u001b[1;33m*\u001b[0m\u001b[0margs\u001b[0m\u001b[1;33m,\u001b[0m \u001b[1;33m**\u001b[0m\u001b[0mkwds\u001b[0m\u001b[1;33m)\u001b[0m\u001b[1;33m\u001b[0m\u001b[1;33m\u001b[0m\u001b[0m\n\u001b[0m\u001b[0;32m     45\u001b[0m     \u001b[1;32mif\u001b[0m \u001b[0mwrap\u001b[0m\u001b[1;33m:\u001b[0m\u001b[1;33m\u001b[0m\u001b[1;33m\u001b[0m\u001b[0m\n\u001b[0;32m     46\u001b[0m         \u001b[1;32mif\u001b[0m \u001b[1;32mnot\u001b[0m \u001b[0misinstance\u001b[0m\u001b[1;33m(\u001b[0m\u001b[0mresult\u001b[0m\u001b[1;33m,\u001b[0m \u001b[0mmu\u001b[0m\u001b[1;33m.\u001b[0m\u001b[0mndarray\u001b[0m\u001b[1;33m)\u001b[0m\u001b[1;33m:\u001b[0m\u001b[1;33m\u001b[0m\u001b[1;33m\u001b[0m\u001b[0m\n",
      "\u001b[1;31mTypeError\u001b[0m: loop of ufunc does not support argument 0 of type NoneType which has no callable rint method"
     ]
    }
   ],
   "source": [
    "for theta in range(4):\n",
    "    theta = theta / 4. * np.pi\n",
    "    for sigma in (1, 3):\n",
    "        for frequency in (0.05, 0.25):\n",
    "            kernel = np.real(gabor_kernel(frequency, theta=theta,\n",
    "                                          sigma_x=sigma, sigma_y=sigma))\n",
    "            kernels.append(kernel)\n",
    "\n",
    "\n",
    "image_names=[r\"D:\\python\\iris-recog\\Iris-recognition-with-python-and-opencv-master\\code\\images\\05_L.bmp\",r\"D:\\python\\iris-recog\\Iris-recognition-with-python-and-opencv-master\\code\\images\\002_05_L.bmp\",r\"D:\\python\\iris-recog\\Iris-recognition-with-python-and-opencv-master\\code\\images\\076_02_L.bmp\",r\"D:\\python\\iris-recog\\Iris-recognition-with-python-and-opencv-master\\code\\images\\08_L.bmp\"]\n",
    "person1=norm_image(image_names[0])\n",
    "person2=norm_image(image_names[1])\n",
    "person3=norm_image(image_names[2])\n",
    "person4=norm_image(image_names[3])\n",
    "person_names = ('person 1', 'person 2', 'person 3','person 4')\n",
    "unknown_img=r\"D:\\python\\iris-recog\\Iris-recognition-with-python-and-opencv-master\\code\\images\\Layer.jpg\"\n",
    "images = (person1,person2,person3,person4)\n",
    "\n",
    "\n",
    "# prepare reference features\n",
    "ref_feats = np.zeros((4, len(kernels), 2), dtype=np.double)\n",
    "ref_feats[0, :, :] = compute_feats(person1, kernels)\n",
    "ref_feats[1, :, :] = compute_feats(person2, kernels)\n",
    "ref_feats[2, :, :] = compute_feats(person3, kernels)\n",
    "ref_feats[3, :, :] = compute_feats(person4, kernels)\n",
    "\n",
    "print('Matched against references using Gabor filter banks:')\n",
    "print('original:unknown person , match result: ', end='')\n",
    "unknown_person_norm_image=norm_image(unknown_img)\n",
    "feats = compute_feats(unknown_person_norm_image, kernels)\n",
    "print(person_names[match(feats, ref_feats)])\n",
    "\n",
    "plt.figure(figsize=(10,10))\n",
    "\n",
    "for i in range(4):\n",
    "    plt.subplot(4,2,2*i+1)\n",
    "    plt.xticks([])\n",
    "    plt.yticks([])\n",
    "    plt.xlabel(person_names[i]+\" eye image\")\n",
    "    plt.imshow(np.array(cv2.imread(image_names[i])),cmap ='gray')\n",
    "    plt.subplot(4,2,2*i+2)\n",
    "    plt.xticks([])\n",
    "    plt.yticks([])\n",
    "    plt.xlabel(\"Match result : \"+str(percentage_array[i])+\"%\")\n",
    "    plt.imshow(np.array(cv2.imread(unknown_img)),cmap ='gray')\n",
    "plt.show()"
   ]
  },
  {
   "cell_type": "code",
   "execution_count": null,
   "id": "96aff46c",
   "metadata": {},
   "outputs": [],
   "source": []
  }
 ],
 "metadata": {
  "kernelspec": {
   "display_name": "Python 3",
   "language": "python",
   "name": "python3"
  },
  "language_info": {
   "codemirror_mode": {
    "name": "ipython",
    "version": 3
   },
   "file_extension": ".py",
   "mimetype": "text/x-python",
   "name": "python",
   "nbconvert_exporter": "python",
   "pygments_lexer": "ipython3",
   "version": "3.8.8"
  }
 },
 "nbformat": 4,
 "nbformat_minor": 5
}
